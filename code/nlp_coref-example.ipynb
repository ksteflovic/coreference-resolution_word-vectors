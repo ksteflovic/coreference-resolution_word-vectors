{
 "cells": [
  {
   "cell_type": "code",
   "execution_count": 1,
   "id": "584bc73f",
   "metadata": {},
   "outputs": [],
   "source": [
    "import pandas as pd"
   ]
  },
  {
   "cell_type": "code",
   "execution_count": 2,
   "id": "6e7ad323",
   "metadata": {},
   "outputs": [],
   "source": [
    "data = pd.read_csv('data/coref_news.csv', sep=';')"
   ]
  },
  {
   "cell_type": "code",
   "execution_count": 3,
   "id": "20213c54",
   "metadata": {},
   "outputs": [
    {
     "data": {
      "text/html": [
       "<div>\n",
       "<style scoped>\n",
       "    .dataframe tbody tr th:only-of-type {\n",
       "        vertical-align: middle;\n",
       "    }\n",
       "\n",
       "    .dataframe tbody tr th {\n",
       "        vertical-align: top;\n",
       "    }\n",
       "\n",
       "    .dataframe thead th {\n",
       "        text-align: right;\n",
       "    }\n",
       "</style>\n",
       "<table border=\"1\" class=\"dataframe\">\n",
       "  <thead>\n",
       "    <tr style=\"text-align: right;\">\n",
       "      <th></th>\n",
       "      <th>Unnamed: 0</th>\n",
       "      <th>label</th>\n",
       "      <th>without_coreference</th>\n",
       "      <th>with_coreference</th>\n",
       "    </tr>\n",
       "  </thead>\n",
       "  <tbody>\n",
       "    <tr>\n",
       "      <th>0</th>\n",
       "      <td>0</td>\n",
       "      <td>fake</td>\n",
       "      <td>I woke up this morning to find a variation of ...</td>\n",
       "      <td>I woke up this morning to find a variation of ...</td>\n",
       "    </tr>\n",
       "    <tr>\n",
       "      <th>1</th>\n",
       "      <td>1</td>\n",
       "      <td>fake</td>\n",
       "      <td>Former President Bill Clinton and his Clinton ...</td>\n",
       "      <td>Former President Bill Clinton and Bill Clinton...</td>\n",
       "    </tr>\n",
       "    <tr>\n",
       "      <th>2</th>\n",
       "      <td>2</td>\n",
       "      <td>fake</td>\n",
       "      <td>After collapsing just before trying to step in...</td>\n",
       "      <td>After collapsing just before trying to step in...</td>\n",
       "    </tr>\n",
       "    <tr>\n",
       "      <th>3</th>\n",
       "      <td>3</td>\n",
       "      <td>fake</td>\n",
       "      <td>Donald Trump is, well, deplorable. He’s sugges...</td>\n",
       "      <td>Donald Trump is, well, deplorable. Donald Trum...</td>\n",
       "    </tr>\n",
       "    <tr>\n",
       "      <th>4</th>\n",
       "      <td>4</td>\n",
       "      <td>fake</td>\n",
       "      <td>Website is Down For Maintenance</td>\n",
       "      <td>Website is Down For Maintenance</td>\n",
       "    </tr>\n",
       "  </tbody>\n",
       "</table>\n",
       "</div>"
      ],
      "text/plain": [
       "   Unnamed: 0 label                                without_coreference  \\\n",
       "0           0  fake  I woke up this morning to find a variation of ...   \n",
       "1           1  fake  Former President Bill Clinton and his Clinton ...   \n",
       "2           2  fake  After collapsing just before trying to step in...   \n",
       "3           3  fake  Donald Trump is, well, deplorable. He’s sugges...   \n",
       "4           4  fake                    Website is Down For Maintenance   \n",
       "\n",
       "                                    with_coreference  \n",
       "0  I woke up this morning to find a variation of ...  \n",
       "1  Former President Bill Clinton and Bill Clinton...  \n",
       "2  After collapsing just before trying to step in...  \n",
       "3  Donald Trump is, well, deplorable. Donald Trum...  \n",
       "4                    Website is Down For Maintenance  "
      ]
     },
     "execution_count": 3,
     "metadata": {},
     "output_type": "execute_result"
    }
   ],
   "source": [
    "data.head()"
   ]
  },
  {
   "cell_type": "code",
   "execution_count": 4,
   "id": "92cae217",
   "metadata": {},
   "outputs": [
    {
     "data": {
      "text/plain": [
       "'fake'"
      ]
     },
     "execution_count": 4,
     "metadata": {},
     "output_type": "execute_result"
    }
   ],
   "source": [
    "data.iloc[50,1]"
   ]
  },
  {
   "cell_type": "code",
   "execution_count": 5,
   "id": "cfbd1283",
   "metadata": {},
   "outputs": [
    {
     "data": {
      "text/plain": [
       "'775 SHARES Facebook Twitter  CNN news has claimed through polling that Hillary Clinton was the undefinable winner of the first general election debate. But others indicate otherwise. Snap polls show Donald Trump as the debate night winner. Talking points included the Birther movement allegations, the email controversy, and Trump’s tax returns as well as other things.  Look at some of the snap polls below. They include TIME Magazine, the Drudge Report, CBS New York, Fox 5, and News 2 Nashville among many others.  Donald Trump took to Twitter to thank everyone for polling in his favor and for their belief that he won the debate. So far, Hillary Clinton has yet to comment on it. The CNN snap poll showed Clinton at 62 percent and Trump at 27 percent. Which is a very large margin considering most polls show he won. Thus, something nefarious has to be going on with that CNN poll. Or the pool of people polled is off.  521 people were polled by CNN but the network admitted the sample pool leaned more Democrat. Which would explain the results. Despite Clinton’s win in that poll the poll had mixed results as to whether or not the debate would make a difference in their voting. So even if she won in that poll that means the results do not necessarily indicate that people will go to the voting booth to support her.  Regardless of these apparent “winning” results, as Donald Trump would say, he has complained that the media network gave him a defective mic. That he should have brought up Bill Clinton’s infidelity. Even going as far as to threaten not to appear at the debate. Which is odd considering he apparently won.  With the election about a month away time is beginning to crunch and the candidates have less and less time to change voters minds. Let’s not forget that Julian Assange promised a few months back an October surprise release on Wikileaks that would destroy Hillary Clinton’s campaign. We all must wait and see.'"
      ]
     },
     "execution_count": 5,
     "metadata": {},
     "output_type": "execute_result"
    }
   ],
   "source": [
    "data.iloc[50,2]"
   ]
  },
  {
   "cell_type": "code",
   "execution_count": 6,
   "id": "c11a6e1c",
   "metadata": {},
   "outputs": [
    {
     "data": {
      "text/plain": [
       "'775 SHARES Facebook Twitter  CNN news has claimed through polling that Hillary Clinton was the undefinable winner of the first general election debate. But others indicate otherwise. Snap polls show Donald Trump as the undefinable winner of the first general election debate. Talking points included the Birther movement allegations, the email controversy, and Trump’s tax returns as well as other things.  Look at some of the snap polls below. some of the snap polls below include TIME Magazine, the Drudge Report, CBS New York, Fox 5, and News 2 Nashville among many others.  Donald Trump took to Twitter to thank everyone for polling in Donald Trump favor and for their belief that Donald Trump won the first general election debate. So far, Hillary Clinton has yet to comment on it. The CNN snap poll showed Hillary Clinton at 62 percent and Donald Trump at 27 percent. Which is a very large margin considering most polls show Donald Trump won. Thus, something nefarious has to be going on with The CNN snap poll. Or the pool of people polled is off.  521 people were polled by CNN but the network admitted the sample pool leaned more Democrat. Which would explain the results. Despite Hillary Clinton’s win in The CNN snap poll The CNN snap poll had mixed results as to whether or not the debate would make a difference in The CNN snap poll voting. So even if Hillary Clinton won in The CNN snap poll that means the results do not necessarily indicate that people will go to the voting booth to support Hillary Clinton.  Regardless of these apparent “winning” results, as Donald Trump would say, Donald Trump has complained that the network gave Donald Trump a defective mic. That Donald Trump should have brought up Bill Clinton’s infidelity. Even going as far as to threaten not to appear at the debate. Which is odd considering Donald Trump apparently won.  With the election about a month away time is beginning to crunch and the candidates have less and less time to change voters minds. Let’s not forget that Julian Assange promised a few months back an October surprise release on Wikileaks that would destroy Hillary Clinton’s campaign. We all must wait and see.'"
      ]
     },
     "execution_count": 6,
     "metadata": {},
     "output_type": "execute_result"
    }
   ],
   "source": [
    "data.iloc[50,3]"
   ]
  },
  {
   "cell_type": "code",
   "execution_count": null,
   "id": "cfe22aa5",
   "metadata": {},
   "outputs": [],
   "source": []
  }
 ],
 "metadata": {
  "kernelspec": {
   "display_name": "Python 3 (ipykernel)",
   "language": "python",
   "name": "python3"
  },
  "language_info": {
   "codemirror_mode": {
    "name": "ipython",
    "version": 3
   },
   "file_extension": ".py",
   "mimetype": "text/x-python",
   "name": "python",
   "nbconvert_exporter": "python",
   "pygments_lexer": "ipython3",
   "version": "3.9.7"
  }
 },
 "nbformat": 4,
 "nbformat_minor": 5
}
