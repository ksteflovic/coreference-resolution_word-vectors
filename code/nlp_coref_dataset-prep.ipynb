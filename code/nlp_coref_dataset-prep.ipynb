{
 "cells": [
  {
   "cell_type": "code",
   "execution_count": 1,
   "id": "429b8f51",
   "metadata": {},
   "outputs": [
    {
     "data": {
      "text/plain": [
       "'\\n\\n\\n{} - altgr + B\\n[] - altgr + F\\n#  - altgr + X\\n$  - altgr + ô\\n^  - altgr + 3\\n\\n\\n'"
      ]
     },
     "execution_count": 1,
     "metadata": {},
     "output_type": "execute_result"
    }
   ],
   "source": [
    "# zaujímavá pomôcka \n",
    "\n",
    "\"\"\"\n",
    "\n",
    "\n",
    "{} - altgr + B\n",
    "[] - altgr + F\n",
    "#  - altgr + X\n",
    "$  - altgr + ô\n",
    "^  - altgr + 3\n",
    "\n",
    "\n",
    "\"\"\""
   ]
  },
  {
   "cell_type": "markdown",
   "id": "2d974c82",
   "metadata": {},
   "source": [
    "## Import of libraries"
   ]
  },
  {
   "cell_type": "code",
   "execution_count": 2,
   "id": "177f7e6e",
   "metadata": {},
   "outputs": [],
   "source": [
    "import os\n",
    "import math\n",
    "import time\n",
    "\n",
    "# coreference resolution libs\n",
    "import spacy\n",
    "import neuralcoref\n",
    "\n",
    "import pandas as pd\n",
    "\n",
    "# TF-IDF\n",
    "from sklearn.feature_extraction.text import TfidfVectorizer # web - https://scikit-learn.org/stable/index.html\n",
    "\n",
    "# Doc2Vec\n",
    "from gensim.models.doc2vec import Doc2Vec, TaggedDocument\n",
    "\n",
    "# graphs\n",
    "import matplotlib.pyplot as plt\n",
    "import seaborn as sns\n",
    "%matplotlib inline\n",
    "\n",
    "# images for jupyter\n",
    "from IPython.display import Image"
   ]
  },
  {
   "cell_type": "markdown",
   "id": "f4c08ce9",
   "metadata": {},
   "source": [
    "## spacy and neuralcoref"
   ]
  },
  {
   "cell_type": "code",
   "execution_count": 3,
   "id": "49edc875",
   "metadata": {},
   "outputs": [],
   "source": [
    "nlp = spacy.load('en_core_web_sm')"
   ]
  },
  {
   "cell_type": "code",
   "execution_count": 4,
   "id": "5d481ec7",
   "metadata": {},
   "outputs": [
    {
     "data": {
      "text/plain": [
       "<spacy.lang.en.English at 0x2d317e0c988>"
      ]
     },
     "execution_count": 4,
     "metadata": {},
     "output_type": "execute_result"
    }
   ],
   "source": [
    "neuralcoref.add_to_pipe(nlp)"
   ]
  },
  {
   "cell_type": "markdown",
   "id": "6e0b6f45",
   "metadata": {},
   "source": [
    "## Dataset import"
   ]
  },
  {
   "cell_type": "code",
   "execution_count": 5,
   "id": "9b23a38c",
   "metadata": {},
   "outputs": [],
   "source": [
    "news = pd.read_csv(\"../data/fake_news/KaiDMML.csv\")"
   ]
  },
  {
   "cell_type": "markdown",
   "id": "ce2022e5",
   "metadata": {},
   "source": [
    "## pandas"
   ]
  },
  {
   "cell_type": "code",
   "execution_count": 6,
   "id": "00900182",
   "metadata": {},
   "outputs": [
    {
     "data": {
      "text/html": [
       "<div>\n",
       "<style scoped>\n",
       "    .dataframe tbody tr th:only-of-type {\n",
       "        vertical-align: middle;\n",
       "    }\n",
       "\n",
       "    .dataframe tbody tr th {\n",
       "        vertical-align: top;\n",
       "    }\n",
       "\n",
       "    .dataframe thead th {\n",
       "        text-align: right;\n",
       "    }\n",
       "</style>\n",
       "<table border=\"1\" class=\"dataframe\">\n",
       "  <thead>\n",
       "    <tr style=\"text-align: right;\">\n",
       "      <th></th>\n",
       "      <th>Unnamed: 0</th>\n",
       "      <th>url</th>\n",
       "      <th>title</th>\n",
       "      <th>content</th>\n",
       "      <th>publication</th>\n",
       "      <th>type</th>\n",
       "      <th>label</th>\n",
       "      <th>json</th>\n",
       "    </tr>\n",
       "  </thead>\n",
       "  <tbody>\n",
       "    <tr>\n",
       "      <th>0</th>\n",
       "      <td>0</td>\n",
       "      <td>http://www.addictinginfo.org/2016/09/19/proof-...</td>\n",
       "      <td>Proof The Mainstream Media Is Manipulating The...</td>\n",
       "      <td>I woke up this morning to find a variation of ...</td>\n",
       "      <td>http://www.addictinginfo.org</td>\n",
       "      <td>BuzzFeed</td>\n",
       "      <td>fake</td>\n",
       "      <td>https://github.com/KaiDMML/FakeNewsNet/raw/old...</td>\n",
       "    </tr>\n",
       "    <tr>\n",
       "      <th>1</th>\n",
       "      <td>1</td>\n",
       "      <td>http://eaglerising.com/36899/charity-clinton-f...</td>\n",
       "      <td>Charity: Clinton Foundation Distributed “Water...</td>\n",
       "      <td>Former President Bill Clinton and his Clinton ...</td>\n",
       "      <td>http://eaglerising.com</td>\n",
       "      <td>BuzzFeed</td>\n",
       "      <td>fake</td>\n",
       "      <td>https://github.com/KaiDMML/FakeNewsNet/raw/old...</td>\n",
       "    </tr>\n",
       "    <tr>\n",
       "      <th>2</th>\n",
       "      <td>2</td>\n",
       "      <td>http://eaglerising.com/36880/a-hillary-clinton...</td>\n",
       "      <td>A Hillary Clinton Administration May be Entire...</td>\n",
       "      <td>After collapsing just before trying to step in...</td>\n",
       "      <td>http://eaglerising.com</td>\n",
       "      <td>BuzzFeed</td>\n",
       "      <td>fake</td>\n",
       "      <td>https://github.com/KaiDMML/FakeNewsNet/raw/old...</td>\n",
       "    </tr>\n",
       "    <tr>\n",
       "      <th>3</th>\n",
       "      <td>3</td>\n",
       "      <td>http://www.addictinginfo.org/2016/09/19/trumps...</td>\n",
       "      <td>Trump’s Latest Campaign Promise May Be His Mos...</td>\n",
       "      <td>Donald Trump is, well, deplorable. He’s sugges...</td>\n",
       "      <td>http://www.addictinginfo.org</td>\n",
       "      <td>BuzzFeed</td>\n",
       "      <td>fake</td>\n",
       "      <td>https://github.com/KaiDMML/FakeNewsNet/raw/old...</td>\n",
       "    </tr>\n",
       "    <tr>\n",
       "      <th>4</th>\n",
       "      <td>4</td>\n",
       "      <td>http://www.proudcons.com/clinton-foundation-ca...</td>\n",
       "      <td>Website is Down For Maintenance</td>\n",
       "      <td>Website is Down For Maintenance</td>\n",
       "      <td>http://www.proudcons.com</td>\n",
       "      <td>BuzzFeed</td>\n",
       "      <td>fake</td>\n",
       "      <td>https://github.com/KaiDMML/FakeNewsNet/raw/old...</td>\n",
       "    </tr>\n",
       "    <tr>\n",
       "      <th>...</th>\n",
       "      <td>...</td>\n",
       "      <td>...</td>\n",
       "      <td>...</td>\n",
       "      <td>...</td>\n",
       "      <td>...</td>\n",
       "      <td>...</td>\n",
       "      <td>...</td>\n",
       "      <td>...</td>\n",
       "    </tr>\n",
       "    <tr>\n",
       "      <th>402</th>\n",
       "      <td>402</td>\n",
       "      <td>http://politi.co/2csN1WG</td>\n",
       "      <td>Donald Trump, Germany’s disfavored son – POLITICO</td>\n",
       "      <td>KALLSTADT, Germany — Few places in Germany are...</td>\n",
       "      <td>http://politi.co</td>\n",
       "      <td>PolitiFact</td>\n",
       "      <td>real</td>\n",
       "      <td>https://github.com/KaiDMML/FakeNewsNet/raw/old...</td>\n",
       "    </tr>\n",
       "    <tr>\n",
       "      <th>403</th>\n",
       "      <td>403</td>\n",
       "      <td>http://newsbake.com/entertainment-news/tv/brea...</td>\n",
       "      <td>BREAKING: Hollywood Legend Just Died Of Terrib...</td>\n",
       "      <td>Hollywood loses yet another one of their deare...</td>\n",
       "      <td>http://newsbake.com</td>\n",
       "      <td>PolitiFact</td>\n",
       "      <td>real</td>\n",
       "      <td>https://github.com/KaiDMML/FakeNewsNet/raw/old...</td>\n",
       "    </tr>\n",
       "    <tr>\n",
       "      <th>404</th>\n",
       "      <td>404</td>\n",
       "      <td>http://politi.co/2d1qa5t</td>\n",
       "      <td>Worst. President. Ever.</td>\n",
       "      <td>As my 25th wedding anniversary approached, I t...</td>\n",
       "      <td>http://politi.co</td>\n",
       "      <td>PolitiFact</td>\n",
       "      <td>real</td>\n",
       "      <td>https://github.com/KaiDMML/FakeNewsNet/raw/old...</td>\n",
       "    </tr>\n",
       "    <tr>\n",
       "      <th>405</th>\n",
       "      <td>405</td>\n",
       "      <td>http://cnn.it/2dh5vq9</td>\n",
       "      <td>Don King drops N-word while introducing Donald...</td>\n",
       "      <td>Story highlights Trump was sitting in a chair ...</td>\n",
       "      <td>http://cnn.it</td>\n",
       "      <td>PolitiFact</td>\n",
       "      <td>real</td>\n",
       "      <td>https://github.com/KaiDMML/FakeNewsNet/raw/old...</td>\n",
       "    </tr>\n",
       "    <tr>\n",
       "      <th>406</th>\n",
       "      <td>406</td>\n",
       "      <td>http://abcn.ws/2cFVuaq</td>\n",
       "      <td>Donald Trump Jr. Compares Syrian Refugees to S...</td>\n",
       "      <td>Donald Trump Jr., a son of the Republican pres...</td>\n",
       "      <td>http://abcn.ws</td>\n",
       "      <td>PolitiFact</td>\n",
       "      <td>real</td>\n",
       "      <td>https://github.com/KaiDMML/FakeNewsNet/raw/old...</td>\n",
       "    </tr>\n",
       "  </tbody>\n",
       "</table>\n",
       "<p>407 rows × 8 columns</p>\n",
       "</div>"
      ],
      "text/plain": [
       "     Unnamed: 0                                                url  \\\n",
       "0             0  http://www.addictinginfo.org/2016/09/19/proof-...   \n",
       "1             1  http://eaglerising.com/36899/charity-clinton-f...   \n",
       "2             2  http://eaglerising.com/36880/a-hillary-clinton...   \n",
       "3             3  http://www.addictinginfo.org/2016/09/19/trumps...   \n",
       "4             4  http://www.proudcons.com/clinton-foundation-ca...   \n",
       "..          ...                                                ...   \n",
       "402         402                           http://politi.co/2csN1WG   \n",
       "403         403  http://newsbake.com/entertainment-news/tv/brea...   \n",
       "404         404                           http://politi.co/2d1qa5t   \n",
       "405         405                              http://cnn.it/2dh5vq9   \n",
       "406         406                             http://abcn.ws/2cFVuaq   \n",
       "\n",
       "                                                 title  \\\n",
       "0    Proof The Mainstream Media Is Manipulating The...   \n",
       "1    Charity: Clinton Foundation Distributed “Water...   \n",
       "2    A Hillary Clinton Administration May be Entire...   \n",
       "3    Trump’s Latest Campaign Promise May Be His Mos...   \n",
       "4                      Website is Down For Maintenance   \n",
       "..                                                 ...   \n",
       "402  Donald Trump, Germany’s disfavored son – POLITICO   \n",
       "403  BREAKING: Hollywood Legend Just Died Of Terrib...   \n",
       "404                            Worst. President. Ever.   \n",
       "405  Don King drops N-word while introducing Donald...   \n",
       "406  Donald Trump Jr. Compares Syrian Refugees to S...   \n",
       "\n",
       "                                               content  \\\n",
       "0    I woke up this morning to find a variation of ...   \n",
       "1    Former President Bill Clinton and his Clinton ...   \n",
       "2    After collapsing just before trying to step in...   \n",
       "3    Donald Trump is, well, deplorable. He’s sugges...   \n",
       "4                      Website is Down For Maintenance   \n",
       "..                                                 ...   \n",
       "402  KALLSTADT, Germany — Few places in Germany are...   \n",
       "403  Hollywood loses yet another one of their deare...   \n",
       "404  As my 25th wedding anniversary approached, I t...   \n",
       "405  Story highlights Trump was sitting in a chair ...   \n",
       "406  Donald Trump Jr., a son of the Republican pres...   \n",
       "\n",
       "                      publication        type label  \\\n",
       "0    http://www.addictinginfo.org    BuzzFeed  fake   \n",
       "1          http://eaglerising.com    BuzzFeed  fake   \n",
       "2          http://eaglerising.com    BuzzFeed  fake   \n",
       "3    http://www.addictinginfo.org    BuzzFeed  fake   \n",
       "4        http://www.proudcons.com    BuzzFeed  fake   \n",
       "..                            ...         ...   ...   \n",
       "402              http://politi.co  PolitiFact  real   \n",
       "403           http://newsbake.com  PolitiFact  real   \n",
       "404              http://politi.co  PolitiFact  real   \n",
       "405                 http://cnn.it  PolitiFact  real   \n",
       "406                http://abcn.ws  PolitiFact  real   \n",
       "\n",
       "                                                  json  \n",
       "0    https://github.com/KaiDMML/FakeNewsNet/raw/old...  \n",
       "1    https://github.com/KaiDMML/FakeNewsNet/raw/old...  \n",
       "2    https://github.com/KaiDMML/FakeNewsNet/raw/old...  \n",
       "3    https://github.com/KaiDMML/FakeNewsNet/raw/old...  \n",
       "4    https://github.com/KaiDMML/FakeNewsNet/raw/old...  \n",
       "..                                                 ...  \n",
       "402  https://github.com/KaiDMML/FakeNewsNet/raw/old...  \n",
       "403  https://github.com/KaiDMML/FakeNewsNet/raw/old...  \n",
       "404  https://github.com/KaiDMML/FakeNewsNet/raw/old...  \n",
       "405  https://github.com/KaiDMML/FakeNewsNet/raw/old...  \n",
       "406  https://github.com/KaiDMML/FakeNewsNet/raw/old...  \n",
       "\n",
       "[407 rows x 8 columns]"
      ]
     },
     "execution_count": 6,
     "metadata": {},
     "output_type": "execute_result"
    }
   ],
   "source": [
    "news"
   ]
  },
  {
   "cell_type": "code",
   "execution_count": 7,
   "id": "4aeddadc",
   "metadata": {},
   "outputs": [
    {
     "data": {
      "text/plain": [
       "Unnamed: 0     407\n",
       "url            368\n",
       "title          407\n",
       "content        405\n",
       "publication    368\n",
       "type           407\n",
       "label          407\n",
       "json           407\n",
       "dtype: int64"
      ]
     },
     "execution_count": 7,
     "metadata": {},
     "output_type": "execute_result"
    }
   ],
   "source": [
    "news.count()"
   ]
  },
  {
   "cell_type": "code",
   "execution_count": 8,
   "id": "5c3f80e4",
   "metadata": {},
   "outputs": [
    {
     "data": {
      "text/plain": [
       "Unnamed: 0     210\n",
       "url            173\n",
       "title          210\n",
       "content        208\n",
       "publication    173\n",
       "type           210\n",
       "label          210\n",
       "json           210\n",
       "dtype: int64"
      ]
     },
     "execution_count": 8,
     "metadata": {},
     "output_type": "execute_result"
    }
   ],
   "source": [
    "news[news['label']==\"fake\"].count()"
   ]
  },
  {
   "cell_type": "code",
   "execution_count": 9,
   "id": "e4845139",
   "metadata": {},
   "outputs": [
    {
     "data": {
      "text/plain": [
       "Unnamed: 0     197\n",
       "url            195\n",
       "title          197\n",
       "content        197\n",
       "publication    195\n",
       "type           197\n",
       "label          197\n",
       "json           197\n",
       "dtype: int64"
      ]
     },
     "execution_count": 9,
     "metadata": {},
     "output_type": "execute_result"
    }
   ],
   "source": [
    "news[news['label']==\"real\"].count()"
   ]
  },
  {
   "cell_type": "markdown",
   "id": "99318b9c",
   "metadata": {},
   "source": [
    "### Dataset cleaning"
   ]
  },
  {
   "cell_type": "code",
   "execution_count": 10,
   "id": "97616e55",
   "metadata": {},
   "outputs": [],
   "source": [
    "# vymazem vsetky nove riadky\n",
    "news = news.replace(r'\\n',' ', regex=True)\n",
    "news = news.replace(r'\\r',' ', regex=True)"
   ]
  },
  {
   "cell_type": "code",
   "execution_count": 11,
   "id": "9bc9531e",
   "metadata": {},
   "outputs": [
    {
     "data": {
      "text/plain": [
       "(array([211, 236], dtype=int64),)"
      ]
     },
     "execution_count": 11,
     "metadata": {},
     "output_type": "execute_result"
    }
   ],
   "source": [
    "# Find all NaN cells\n",
    "\n",
    "col_name = \"content\"\n",
    "np.where(pd.isnull(news[col_name]))"
   ]
  },
  {
   "cell_type": "code",
   "execution_count": 12,
   "id": "2c759774",
   "metadata": {},
   "outputs": [
    {
     "data": {
      "text/plain": [
       "Unnamed: 0                                                   211\n",
       "url            http://cnnews3.com/hiv-virus-detected-walmart-...\n",
       "title          cnnews3.com -&nbspcnnews3 Resources and Inform...\n",
       "content                                                      NaN\n",
       "publication                                   http://cnnews3.com\n",
       "type                                                  PolitiFact\n",
       "label                                                       fake\n",
       "json           https://github.com/KaiDMML/FakeNewsNet/raw/old...\n",
       "Name: 211, dtype: object"
      ]
     },
     "execution_count": 12,
     "metadata": {},
     "output_type": "execute_result"
    }
   ],
   "source": [
    "# Just checking, if it is really empty\n",
    "\n",
    "news.iloc[211,:]"
   ]
  },
  {
   "cell_type": "code",
   "execution_count": 13,
   "id": "872bf37c",
   "metadata": {},
   "outputs": [
    {
     "data": {
      "text/plain": [
       "Unnamed: 0                                                   236\n",
       "url            http://uspoln.com/2017/03/17/tom-price-better-...\n",
       "title                                                       Home\n",
       "content                                                      NaN\n",
       "publication                                    http://uspoln.com\n",
       "type                                                  PolitiFact\n",
       "label                                                       fake\n",
       "json           https://github.com/KaiDMML/FakeNewsNet/raw/old...\n",
       "Name: 236, dtype: object"
      ]
     },
     "execution_count": 13,
     "metadata": {},
     "output_type": "execute_result"
    }
   ],
   "source": [
    "# Just checking, if it is really empty\n",
    "\n",
    "news.iloc[236,:]"
   ]
  },
  {
   "cell_type": "code",
   "execution_count": 14,
   "id": "3e4c03f3",
   "metadata": {},
   "outputs": [
    {
     "data": {
      "text/plain": [
       "Unnamed: 0     405\n",
       "url            366\n",
       "title          405\n",
       "content        405\n",
       "publication    366\n",
       "type           405\n",
       "label          405\n",
       "json           405\n",
       "dtype: int64"
      ]
     },
     "execution_count": 14,
     "metadata": {},
     "output_type": "execute_result"
    }
   ],
   "source": [
    "# Create new dataframe without 2 rows from previous dataframe\n",
    "update_news = news.drop([211,236])\n",
    "\n",
    "# Just checking, if it is really 405\n",
    "update_news.count()"
   ]
  },
  {
   "cell_type": "code",
   "execution_count": 15,
   "id": "56da4457",
   "metadata": {},
   "outputs": [
    {
     "data": {
      "text/plain": [
       "Unnamed: 0                                                   212\n",
       "url                                                          NaN\n",
       "title          Executive Order Leads to Capture of ISIS Leade...\n",
       "content        Terror suspect, Rasheed Muhammad, was arrested...\n",
       "publication                                                  NaN\n",
       "type                                                  PolitiFact\n",
       "label                                                       fake\n",
       "json           https://github.com/KaiDMML/FakeNewsNet/raw/old...\n",
       "Name: 212, dtype: object"
      ]
     },
     "execution_count": 15,
     "metadata": {},
     "output_type": "execute_result"
    }
   ],
   "source": [
    "update_news.iloc[211,:]"
   ]
  },
  {
   "cell_type": "code",
   "execution_count": 16,
   "id": "56ff5822",
   "metadata": {},
   "outputs": [],
   "source": [
    "update_news['content'] = update_news['content'].str.replace('â€™',\"\\'\")\n",
    "update_news['content'] = update_news['content'].str.replace('â€ś',\"“\")"
   ]
  },
  {
   "cell_type": "code",
   "execution_count": 17,
   "id": "39f95463",
   "metadata": {},
   "outputs": [
    {
     "data": {
      "text/plain": [
       "'0 SHARES Facebook Twitter  Bernard Sansaricq, former president of the Haitian Senate, issued a blistering statement condemning the Clinton Foundation, which has been posted at Donald Trump’s campaign website.  Sansaricq’s statement says:  Sadly, when an earthquake rocked the nation of Haiti in 2010, corruption moved in faster than the help so desperately needed. Today, the people of Haiti are still suffering despite the billions of dollars that have flowed into the Clinton Foundation.  The Clintons exploited this terrible disaster to steal billions of dollars from the sick and starving people of Haiti. The world trusted the Clintons to help the Haitian people during their most desperate time of need and they were deceived.  The Clintons and their friends are richer today while millions still live in tents. The world deserves to know where the money went and why help was never sent.  The situation Sansaricq refers to is discussed in detail here, and also features prominently in Peter Schweizer’s book Clinton Cash: The Untold Story of How and Why Foreign Governments and Businesses Helped Make Bill and Hillary Rich.  Speaking at a Trump rally last Friday, Sansaricq accused President Bill Clinton of trying to bribe him. He said his visa was revoked after he refused the offer.  A group of Haitian protesters demonstrated against the Clinton Foundation’s actions in Haiti during the Democratic National Convention in Philadelphia'"
      ]
     },
     "execution_count": 17,
     "metadata": {},
     "output_type": "execute_result"
    }
   ],
   "source": [
    "update_news.iloc[34,3]"
   ]
  },
  {
   "cell_type": "code",
   "execution_count": 28,
   "id": "02187cbc",
   "metadata": {
    "scrolled": true
   },
   "outputs": [
    {
     "data": {
      "text/plain": [
       "Unnamed: 0     405\n",
       "url            366\n",
       "title          405\n",
       "content        405\n",
       "publication    366\n",
       "type           405\n",
       "label          405\n",
       "json           405\n",
       "dtype: int64"
      ]
     },
     "execution_count": 28,
     "metadata": {},
     "output_type": "execute_result"
    }
   ],
   "source": [
    "update_news.count()"
   ]
  },
  {
   "cell_type": "code",
   "execution_count": 89,
   "id": "0dee3157",
   "metadata": {},
   "outputs": [],
   "source": [
    "real = pd.DataFrame()\n",
    "fake = pd.DataFrame()\n",
    "\n",
    "real = update_news[update_news['label']==\"real\"]\n",
    "fake = update_news[update_news['label']==\"fake\"]"
   ]
  },
  {
   "cell_type": "code",
   "execution_count": 102,
   "id": "092014f1",
   "metadata": {
    "scrolled": true
   },
   "outputs": [
    {
     "name": "stderr",
     "output_type": "stream",
     "text": [
      "C:\\Users\\kstef\\miniconda3\\lib\\site-packages\\ipykernel_launcher.py:5: FutureWarning: The default value of regex will change from True to False in a future version.\n",
      "  \"\"\"\n"
     ]
    },
    {
     "data": {
      "text/plain": [
       "6920"
      ]
     },
     "execution_count": 102,
     "metadata": {},
     "output_type": "execute_result"
    }
   ],
   "source": [
    "real['content'].str.split().str.len().mean()\n",
    "\n",
    "real_news = pd.DataFrame()\n",
    "\n",
    "real_news['content'] = real['content'].str.replace('[^\\w\\s]','')\n",
    "realpocet = real_news['content'].apply(lambda x: pd.value_counts(x.split(\" \"))).sum(axis = 0)\n",
    "realpocet.tolist().count(1)"
   ]
  },
  {
   "cell_type": "code",
   "execution_count": 103,
   "id": "59ee54b3",
   "metadata": {},
   "outputs": [
    {
     "name": "stderr",
     "output_type": "stream",
     "text": [
      "C:\\Users\\kstef\\miniconda3\\lib\\site-packages\\ipykernel_launcher.py:5: FutureWarning: The default value of regex will change from True to False in a future version.\n",
      "  \"\"\"\n"
     ]
    },
    {
     "data": {
      "text/plain": [
       "5728"
      ]
     },
     "execution_count": 103,
     "metadata": {},
     "output_type": "execute_result"
    }
   ],
   "source": [
    "fake['content'].str.split().str.len().max()\n",
    "\n",
    "fake_news = pd.DataFrame()\n",
    "\n",
    "fake_news['content'] = fake['content'].str.replace('[^\\w\\s]','')\n",
    "fakepocet = fake_news['content'].apply(lambda x: pd.value_counts(x.split(\" \"))).sum(axis = 0)\n",
    "fakepocet.tolist().count(1)"
   ]
  },
  {
   "cell_type": "code",
   "execution_count": 88,
   "id": "644e9560",
   "metadata": {},
   "outputs": [
    {
     "data": {
      "text/plain": [
       "212299"
      ]
     },
     "execution_count": 88,
     "metadata": {},
     "output_type": "execute_result"
    }
   ],
   "source": [
    "# pocet vsetkych slov v zazname\n",
    "update_news['content'].str.split().str.len().sum()"
   ]
  },
  {
   "cell_type": "code",
   "execution_count": 37,
   "id": "b4548b1f",
   "metadata": {},
   "outputs": [
    {
     "data": {
      "text/plain": [
       "524.1950617283951"
      ]
     },
     "execution_count": 37,
     "metadata": {},
     "output_type": "execute_result"
    }
   ],
   "source": [
    "# priemerny pocet slov na zaznam\n",
    "update_news['content'].str.split().str.len().mean()"
   ]
  },
  {
   "cell_type": "code",
   "execution_count": 38,
   "id": "995a0c74",
   "metadata": {
    "scrolled": true
   },
   "outputs": [
    {
     "data": {
      "text/plain": [
       "5"
      ]
     },
     "execution_count": 38,
     "metadata": {},
     "output_type": "execute_result"
    }
   ],
   "source": [
    "# minimalny pocet slov na zaznam\n",
    "update_news['content'].str.split().str.len().min()"
   ]
  },
  {
   "cell_type": "code",
   "execution_count": 39,
   "id": "d1928252",
   "metadata": {},
   "outputs": [
    {
     "data": {
      "text/plain": [
       "5459"
      ]
     },
     "execution_count": 39,
     "metadata": {},
     "output_type": "execute_result"
    }
   ],
   "source": [
    "# maximalny pocet slov na zaznam\n",
    "update_news['content'].str.split().str.len().max()"
   ]
  },
  {
   "cell_type": "code",
   "execution_count": 85,
   "id": "f38dd736",
   "metadata": {},
   "outputs": [],
   "source": [
    "# unikatny pocet slov"
   ]
  },
  {
   "cell_type": "code",
   "execution_count": 60,
   "id": "a0a8d546",
   "metadata": {
    "scrolled": true
   },
   "outputs": [
    {
     "name": "stderr",
     "output_type": "stream",
     "text": [
      "C:\\Users\\kstef\\miniconda3\\lib\\site-packages\\ipykernel_launcher.py:3: FutureWarning: The default value of regex will change from True to False in a future version.\n",
      "  This is separate from the ipykernel package so we can avoid doing imports until\n"
     ]
    }
   ],
   "source": [
    "updated_news = pd.DataFrame()\n",
    "\n",
    "updated_news['content'] = update_news['content'].str.replace('[^\\w\\s]','')\n",
    "updated_news['word_count'] = updated_news['content'].apply(lambda x: pd.value_counts(x.split(\" \"))).sum(axis = 0)"
   ]
  },
  {
   "cell_type": "code",
   "execution_count": 64,
   "id": "c4253c12",
   "metadata": {},
   "outputs": [],
   "source": [
    "pocet = updated_news['content'].apply(lambda x: pd.value_counts(x.split(\" \"))).sum(axis = 0)"
   ]
  },
  {
   "cell_type": "code",
   "execution_count": 84,
   "id": "35221467",
   "metadata": {},
   "outputs": [
    {
     "data": {
      "text/plain": [
       "9224"
      ]
     },
     "execution_count": 84,
     "metadata": {},
     "output_type": "execute_result"
    }
   ],
   "source": [
    "pocet.tolist().count(1)"
   ]
  },
  {
   "cell_type": "code",
   "execution_count": 29,
   "id": "772ede1d",
   "metadata": {},
   "outputs": [
    {
     "data": {
      "text/plain": [
       "Unnamed: 0     208\n",
       "url            171\n",
       "title          208\n",
       "content        208\n",
       "publication    171\n",
       "type           208\n",
       "label          208\n",
       "json           208\n",
       "dtype: int64"
      ]
     },
     "execution_count": 29,
     "metadata": {},
     "output_type": "execute_result"
    }
   ],
   "source": [
    "update_news[update_news['label']==\"fake\"].count()"
   ]
  },
  {
   "cell_type": "code",
   "execution_count": 30,
   "id": "200e65f3",
   "metadata": {},
   "outputs": [
    {
     "data": {
      "text/plain": [
       "Unnamed: 0     197\n",
       "url            195\n",
       "title          197\n",
       "content        197\n",
       "publication    195\n",
       "type           197\n",
       "label          197\n",
       "json           197\n",
       "dtype: int64"
      ]
     },
     "execution_count": 30,
     "metadata": {},
     "output_type": "execute_result"
    }
   ],
   "source": [
    "update_news[update_news['label']==\"real\"].count()"
   ]
  },
  {
   "cell_type": "markdown",
   "id": "577ac46c",
   "metadata": {},
   "source": [
    "## Coreference resolution via Neuralcoref library"
   ]
  },
  {
   "cell_type": "code",
   "execution_count": 18,
   "id": "3a15dacd",
   "metadata": {},
   "outputs": [],
   "source": [
    "# udaje bez zamen budu umiestnene v liste, neskor sa daju do stlpca\n",
    "\n",
    "# zadefinujem si teda list\n",
    "coref_list = []\n",
    "\n",
    "\n",
    "# vytvorim si dataframe, kam si skopirujem z vycisteneho dataframe-u stlpce title, label, content\n",
    "coref_news = update_news[['label', 'content']].copy()\n",
    "coref_news.count()\n",
    "\n",
    "\n",
    "# zadefinujem si dlzku dataframe-u\n",
    "df_len = coref_news.shape[0]"
   ]
  },
  {
   "cell_type": "code",
   "execution_count": 19,
   "id": "b244a2b0",
   "metadata": {},
   "outputs": [],
   "source": [
    "mapping = {coref_news.columns[0]:'label', coref_news.columns[1]: 'without_coreference'}\n",
    "coref_news = coref_news.rename(columns=mapping)"
   ]
  },
  {
   "cell_type": "code",
   "execution_count": 20,
   "id": "1d846592",
   "metadata": {},
   "outputs": [
    {
     "name": "stdout",
     "output_type": "stream",
     "text": [
      "405\n"
     ]
    }
   ],
   "source": [
    "print(df_len)"
   ]
  },
  {
   "cell_type": "code",
   "execution_count": 21,
   "id": "6c9eedd6",
   "metadata": {},
   "outputs": [
    {
     "data": {
      "text/html": [
       "<div>\n",
       "<style scoped>\n",
       "    .dataframe tbody tr th:only-of-type {\n",
       "        vertical-align: middle;\n",
       "    }\n",
       "\n",
       "    .dataframe tbody tr th {\n",
       "        vertical-align: top;\n",
       "    }\n",
       "\n",
       "    .dataframe thead th {\n",
       "        text-align: right;\n",
       "    }\n",
       "</style>\n",
       "<table border=\"1\" class=\"dataframe\">\n",
       "  <thead>\n",
       "    <tr style=\"text-align: right;\">\n",
       "      <th></th>\n",
       "      <th>label</th>\n",
       "      <th>without_coreference</th>\n",
       "    </tr>\n",
       "  </thead>\n",
       "  <tbody>\n",
       "    <tr>\n",
       "      <th>0</th>\n",
       "      <td>fake</td>\n",
       "      <td>I woke up this morning to find a variation of ...</td>\n",
       "    </tr>\n",
       "    <tr>\n",
       "      <th>1</th>\n",
       "      <td>fake</td>\n",
       "      <td>Former President Bill Clinton and his Clinton ...</td>\n",
       "    </tr>\n",
       "    <tr>\n",
       "      <th>2</th>\n",
       "      <td>fake</td>\n",
       "      <td>After collapsing just before trying to step in...</td>\n",
       "    </tr>\n",
       "    <tr>\n",
       "      <th>3</th>\n",
       "      <td>fake</td>\n",
       "      <td>Donald Trump is, well, deplorable. He’s sugges...</td>\n",
       "    </tr>\n",
       "    <tr>\n",
       "      <th>4</th>\n",
       "      <td>fake</td>\n",
       "      <td>Website is Down For Maintenance</td>\n",
       "    </tr>\n",
       "  </tbody>\n",
       "</table>\n",
       "</div>"
      ],
      "text/plain": [
       "  label                                without_coreference\n",
       "0  fake  I woke up this morning to find a variation of ...\n",
       "1  fake  Former President Bill Clinton and his Clinton ...\n",
       "2  fake  After collapsing just before trying to step in...\n",
       "3  fake  Donald Trump is, well, deplorable. He’s sugges...\n",
       "4  fake                    Website is Down For Maintenance"
      ]
     },
     "execution_count": 21,
     "metadata": {},
     "output_type": "execute_result"
    }
   ],
   "source": [
    "coref_news.head()"
   ]
  },
  {
   "cell_type": "code",
   "execution_count": 22,
   "id": "ae36b228",
   "metadata": {
    "scrolled": true
   },
   "outputs": [
    {
     "name": "stdout",
     "output_type": "stream",
     "text": [
      "<class 'str'>\n"
     ]
    }
   ],
   "source": [
    "# zaujima nas, ci je content typu string, ak ano, mozeme ho koreferovat\n",
    "\n",
    "print(type(coref_news.loc[0, \"without_coreference\"]))"
   ]
  },
  {
   "cell_type": "markdown",
   "id": "1ebaf202",
   "metadata": {},
   "source": [
    "#### ... coreference > in progress"
   ]
  },
  {
   "cell_type": "code",
   "execution_count": 23,
   "id": "990e2e3f",
   "metadata": {},
   "outputs": [],
   "source": [
    "def dopln_zamena(a, b):\n",
    "    start_time = time.time()\n",
    "    for x in range(a, b):\n",
    "        print(\"Coreferencing cell number: %d ...\" %(x), end='')\n",
    "        \n",
    "        # coreferencing\n",
    "        ready = coref_news.iloc[x, 1]\n",
    "        text = nlp(ready)\n",
    "        coref_list.append(text._.coref_resolved)\n",
    "        \n",
    "        print(\" DONE.\\n\")"
   ]
  },
  {
   "cell_type": "code",
   "execution_count": 24,
   "id": "7125da39",
   "metadata": {},
   "outputs": [
    {
     "name": "stdout",
     "output_type": "stream",
     "text": [
      "Coreferencing cell number: 0 ... DONE.\n",
      "\n",
      "Coreferencing cell number: 1 ... DONE.\n",
      "\n",
      "Coreferencing cell number: 2 ... DONE.\n",
      "\n",
      "Coreferencing cell number: 3 ... DONE.\n",
      "\n",
      "Coreferencing cell number: 4 ... DONE.\n",
      "\n",
      "Coreferencing cell number: 5 ... DONE.\n",
      "\n",
      "Coreferencing cell number: 6 ... DONE.\n",
      "\n",
      "Coreferencing cell number: 7 ... DONE.\n",
      "\n",
      "Coreferencing cell number: 8 ... DONE.\n",
      "\n",
      "Coreferencing cell number: 9 ... DONE.\n",
      "\n",
      "Coreferencing cell number: 10 ... DONE.\n",
      "\n",
      "Coreferencing cell number: 11 ... DONE.\n",
      "\n",
      "Coreferencing cell number: 12 ... DONE.\n",
      "\n",
      "Coreferencing cell number: 13 ... DONE.\n",
      "\n",
      "Coreferencing cell number: 14 ... DONE.\n",
      "\n",
      "Coreferencing cell number: 15 ... DONE.\n",
      "\n",
      "Coreferencing cell number: 16 ... DONE.\n",
      "\n",
      "Coreferencing cell number: 17 ... DONE.\n",
      "\n",
      "Coreferencing cell number: 18 ... DONE.\n",
      "\n",
      "Coreferencing cell number: 19 ... DONE.\n",
      "\n",
      "Coreferencing cell number: 20 ... DONE.\n",
      "\n",
      "Coreferencing cell number: 21 ... DONE.\n",
      "\n",
      "Coreferencing cell number: 22 ... DONE.\n",
      "\n",
      "Coreferencing cell number: 23 ... DONE.\n",
      "\n",
      "Coreferencing cell number: 24 ... DONE.\n",
      "\n",
      "Coreferencing cell number: 25 ... DONE.\n",
      "\n",
      "Coreferencing cell number: 26 ... DONE.\n",
      "\n",
      "Coreferencing cell number: 27 ... DONE.\n",
      "\n",
      "Coreferencing cell number: 28 ... DONE.\n",
      "\n",
      "Coreferencing cell number: 29 ... DONE.\n",
      "\n",
      "Coreferencing cell number: 30 ... DONE.\n",
      "\n",
      "Coreferencing cell number: 31 ... DONE.\n",
      "\n",
      "Coreferencing cell number: 32 ... DONE.\n",
      "\n",
      "Coreferencing cell number: 33 ... DONE.\n",
      "\n",
      "Coreferencing cell number: 34 ... DONE.\n",
      "\n",
      "Coreferencing cell number: 35 ... DONE.\n",
      "\n",
      "Coreferencing cell number: 36 ... DONE.\n",
      "\n",
      "Coreferencing cell number: 37 ... DONE.\n",
      "\n",
      "Coreferencing cell number: 38 ... DONE.\n",
      "\n",
      "Coreferencing cell number: 39 ... DONE.\n",
      "\n",
      "Coreferencing cell number: 40 ... DONE.\n",
      "\n",
      "Coreferencing cell number: 41 ... DONE.\n",
      "\n",
      "Coreferencing cell number: 42 ... DONE.\n",
      "\n",
      "Coreferencing cell number: 43 ... DONE.\n",
      "\n",
      "Coreferencing cell number: 44 ... DONE.\n",
      "\n",
      "Coreferencing cell number: 45 ... DONE.\n",
      "\n",
      "Coreferencing cell number: 46 ... DONE.\n",
      "\n",
      "Coreferencing cell number: 47 ... DONE.\n",
      "\n",
      "Coreferencing cell number: 48 ... DONE.\n",
      "\n",
      "Coreferencing cell number: 49 ... DONE.\n",
      "\n",
      "Coreferencing cell number: 50 ..."
     ]
    },
    {
     "ename": "KeyboardInterrupt",
     "evalue": "",
     "output_type": "error",
     "traceback": [
      "\u001b[1;31m---------------------------------------------------------------------------\u001b[0m",
      "\u001b[1;31mKeyboardInterrupt\u001b[0m                         Traceback (most recent call last)",
      "\u001b[1;32m<timed eval>\u001b[0m in \u001b[0;36m<module>\u001b[1;34m\u001b[0m\n",
      "\u001b[1;32m~\\AppData\\Local\\Temp\\ipykernel_14136\\3166949698.py\u001b[0m in \u001b[0;36mdopln_zamena\u001b[1;34m(a, b)\u001b[0m\n\u001b[0;32m      8\u001b[0m         \u001b[1;31m# coreferencing\u001b[0m\u001b[1;33m\u001b[0m\u001b[1;33m\u001b[0m\u001b[1;33m\u001b[0m\u001b[0m\n\u001b[0;32m      9\u001b[0m         \u001b[0mready\u001b[0m \u001b[1;33m=\u001b[0m \u001b[0mcoref_news\u001b[0m\u001b[1;33m.\u001b[0m\u001b[0miloc\u001b[0m\u001b[1;33m[\u001b[0m\u001b[0mx\u001b[0m\u001b[1;33m,\u001b[0m \u001b[1;36m1\u001b[0m\u001b[1;33m]\u001b[0m\u001b[1;33m\u001b[0m\u001b[1;33m\u001b[0m\u001b[0m\n\u001b[1;32m---> 10\u001b[1;33m         \u001b[0mtext\u001b[0m \u001b[1;33m=\u001b[0m \u001b[0mnlp\u001b[0m\u001b[1;33m(\u001b[0m\u001b[0mready\u001b[0m\u001b[1;33m)\u001b[0m\u001b[1;33m\u001b[0m\u001b[1;33m\u001b[0m\u001b[0m\n\u001b[0m\u001b[0;32m     11\u001b[0m         \u001b[0mcoref_list\u001b[0m\u001b[1;33m.\u001b[0m\u001b[0mappend\u001b[0m\u001b[1;33m(\u001b[0m\u001b[0mtext\u001b[0m\u001b[1;33m.\u001b[0m\u001b[0m_\u001b[0m\u001b[1;33m.\u001b[0m\u001b[0mcoref_resolved\u001b[0m\u001b[1;33m)\u001b[0m\u001b[1;33m\u001b[0m\u001b[1;33m\u001b[0m\u001b[0m\n\u001b[0;32m     12\u001b[0m \u001b[1;33m\u001b[0m\u001b[0m\n",
      "\u001b[1;32m~\\miniconda3\\lib\\site-packages\\spacy\\language.py\u001b[0m in \u001b[0;36m__call__\u001b[1;34m(self, text, disable, component_cfg)\u001b[0m\n\u001b[0;32m    383\u001b[0m             \u001b[1;32mif\u001b[0m \u001b[1;32mnot\u001b[0m \u001b[0mhasattr\u001b[0m\u001b[1;33m(\u001b[0m\u001b[0mproc\u001b[0m\u001b[1;33m,\u001b[0m \u001b[1;34m\"__call__\"\u001b[0m\u001b[1;33m)\u001b[0m\u001b[1;33m:\u001b[0m\u001b[1;33m\u001b[0m\u001b[1;33m\u001b[0m\u001b[0m\n\u001b[0;32m    384\u001b[0m                 \u001b[1;32mraise\u001b[0m \u001b[0mValueError\u001b[0m\u001b[1;33m(\u001b[0m\u001b[0mErrors\u001b[0m\u001b[1;33m.\u001b[0m\u001b[0mE003\u001b[0m\u001b[1;33m.\u001b[0m\u001b[0mformat\u001b[0m\u001b[1;33m(\u001b[0m\u001b[0mcomponent\u001b[0m\u001b[1;33m=\u001b[0m\u001b[0mtype\u001b[0m\u001b[1;33m(\u001b[0m\u001b[0mproc\u001b[0m\u001b[1;33m)\u001b[0m\u001b[1;33m,\u001b[0m \u001b[0mname\u001b[0m\u001b[1;33m=\u001b[0m\u001b[0mname\u001b[0m\u001b[1;33m)\u001b[0m\u001b[1;33m)\u001b[0m\u001b[1;33m\u001b[0m\u001b[1;33m\u001b[0m\u001b[0m\n\u001b[1;32m--> 385\u001b[1;33m             \u001b[0mdoc\u001b[0m \u001b[1;33m=\u001b[0m \u001b[0mproc\u001b[0m\u001b[1;33m(\u001b[0m\u001b[0mdoc\u001b[0m\u001b[1;33m,\u001b[0m \u001b[1;33m**\u001b[0m\u001b[0mcomponent_cfg\u001b[0m\u001b[1;33m.\u001b[0m\u001b[0mget\u001b[0m\u001b[1;33m(\u001b[0m\u001b[0mname\u001b[0m\u001b[1;33m,\u001b[0m \u001b[1;33m{\u001b[0m\u001b[1;33m}\u001b[0m\u001b[1;33m)\u001b[0m\u001b[1;33m)\u001b[0m\u001b[1;33m\u001b[0m\u001b[1;33m\u001b[0m\u001b[0m\n\u001b[0m\u001b[0;32m    386\u001b[0m             \u001b[1;32mif\u001b[0m \u001b[0mdoc\u001b[0m \u001b[1;32mis\u001b[0m \u001b[1;32mNone\u001b[0m\u001b[1;33m:\u001b[0m\u001b[1;33m\u001b[0m\u001b[1;33m\u001b[0m\u001b[0m\n\u001b[0;32m    387\u001b[0m                 \u001b[1;32mraise\u001b[0m \u001b[0mValueError\u001b[0m\u001b[1;33m(\u001b[0m\u001b[0mErrors\u001b[0m\u001b[1;33m.\u001b[0m\u001b[0mE005\u001b[0m\u001b[1;33m.\u001b[0m\u001b[0mformat\u001b[0m\u001b[1;33m(\u001b[0m\u001b[0mname\u001b[0m\u001b[1;33m=\u001b[0m\u001b[0mname\u001b[0m\u001b[1;33m)\u001b[0m\u001b[1;33m)\u001b[0m\u001b[1;33m\u001b[0m\u001b[1;33m\u001b[0m\u001b[0m\n",
      "\u001b[1;31mKeyboardInterrupt\u001b[0m: "
     ]
    }
   ],
   "source": [
    "%%time\n",
    "dopln_zamena(0, df_len)"
   ]
  },
  {
   "cell_type": "markdown",
   "id": "8842e2aa",
   "metadata": {},
   "source": [
    "#### ... coreference > done"
   ]
  },
  {
   "cell_type": "code",
   "execution_count": 25,
   "id": "986605bd",
   "metadata": {},
   "outputs": [
    {
     "name": "stdout",
     "output_type": "stream",
     "text": [
      "<class 'list'>\n"
     ]
    }
   ],
   "source": [
    "print(type(coref_list))"
   ]
  },
  {
   "cell_type": "code",
   "execution_count": 26,
   "id": "757c73a5",
   "metadata": {
    "scrolled": true
   },
   "outputs": [
    {
     "name": "stdout",
     "output_type": "stream",
     "text": [
      "Terror suspect, Rasheed Muhammad, was arrested on Tuesday, January 30, at approximately 1:32AM EST at John F. Kennedy International Airport. This marks the first successful story following President Trump’s executive order to protect the nation from foreign terrorist entry into the United States. Muhammad, 32, was questioned due to the heightened security measures that resulted from the presidential executive order. The suspect attempted to enter the country with a tourist visa and claimed to be visiting family in order to attend this year’s Super Bowl LI.    Former Attorney General, Sally Yates, who was ousted by President Trump after failing to support the executive order, released a public apology via popular social media, Snapchat.    “I would like to express a sincere and utter apology to President Donald J. Trump. Due to unforeseen circumstances, there is no way I could have predicted the outcome of the situation. If afforded the opportunity to continue my position as Attorney General, I would be more than ecstatic to comply.”     Officials are waiting to release an official press statement. FBI Director, James Comey, commented “We are unsure if accomplices are still at large. Until matters are addressed, we will keep additional details from the public eye. The security of our nation is the number one priority.”    Image result for Executive Order Leads to Capture of ISIS Leader, Rasheed Muhammad    The terror suspect is currently detained by local authorities and requested a public defender. The White House Press Secretary declined comment until after the release of an official press statement.\n"
     ]
    }
   ],
   "source": [
    "# klasicky\n",
    "print(coref_news.iloc[211,1])"
   ]
  },
  {
   "cell_type": "code",
   "execution_count": 27,
   "id": "0afdc05c",
   "metadata": {
    "scrolled": false
   },
   "outputs": [
    {
     "ename": "IndexError",
     "evalue": "list index out of range",
     "output_type": "error",
     "traceback": [
      "\u001b[1;31m---------------------------------------------------------------------------\u001b[0m",
      "\u001b[1;31mIndexError\u001b[0m                                Traceback (most recent call last)",
      "\u001b[1;32m~\\AppData\\Local\\Temp\\ipykernel_14136\\1225545604.py\u001b[0m in \u001b[0;36m<module>\u001b[1;34m\u001b[0m\n\u001b[0;32m      1\u001b[0m \u001b[1;31m# koreferencovany\u001b[0m\u001b[1;33m\u001b[0m\u001b[1;33m\u001b[0m\u001b[1;33m\u001b[0m\u001b[0m\n\u001b[1;32m----> 2\u001b[1;33m \u001b[0mprint\u001b[0m\u001b[1;33m(\u001b[0m\u001b[0mcoref_list\u001b[0m\u001b[1;33m[\u001b[0m\u001b[1;36m211\u001b[0m\u001b[1;33m]\u001b[0m\u001b[1;33m)\u001b[0m\u001b[1;33m\u001b[0m\u001b[1;33m\u001b[0m\u001b[0m\n\u001b[0m",
      "\u001b[1;31mIndexError\u001b[0m: list index out of range"
     ]
    }
   ],
   "source": [
    "# koreferencovany\n",
    "print(coref_list[211])"
   ]
  },
  {
   "cell_type": "code",
   "execution_count": null,
   "id": "85563a3b",
   "metadata": {},
   "outputs": [],
   "source": [
    "# musi byt 405\n",
    "\n",
    "print(len(coref_list))"
   ]
  },
  {
   "cell_type": "code",
   "execution_count": null,
   "id": "b7ae78a5",
   "metadata": {},
   "outputs": [],
   "source": [
    "# vlozim vytvoreny list ako novy stlpec\n",
    "\n",
    "coref_news['with_coreference'] = coref_list"
   ]
  },
  {
   "cell_type": "code",
   "execution_count": null,
   "id": "96388d06",
   "metadata": {},
   "outputs": [],
   "source": [
    "coref_news.count()"
   ]
  },
  {
   "cell_type": "code",
   "execution_count": null,
   "id": "c93f2550",
   "metadata": {},
   "outputs": [],
   "source": [
    "coref_news.to_csv('coref_news.csv', sep=';')"
   ]
  }
 ],
 "metadata": {
  "kernelspec": {
   "display_name": "Python 3 (ipykernel)",
   "language": "python",
   "name": "python3"
  },
  "language_info": {
   "codemirror_mode": {
    "name": "ipython",
    "version": 3
   },
   "file_extension": ".py",
   "mimetype": "text/x-python",
   "name": "python",
   "nbconvert_exporter": "python",
   "pygments_lexer": "ipython3",
   "version": "3.9.7"
  }
 },
 "nbformat": 4,
 "nbformat_minor": 5
}
